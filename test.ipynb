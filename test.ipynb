{
 "cells": [
  {
   "cell_type": "code",
   "execution_count": 5,
   "metadata": {},
   "outputs": [],
   "source": [
    "import numpy as np\n",
    "import os\n",
    "import matplotlib.pyplot as plt\n",
    "from Bio.PDB.PDBParser import PDBParser\n",
    "import pickle\n",
    "\n",
    "import py3Dmol\n",
    "\n",
    "import urllib"
   ]
  },
  {
   "cell_type": "code",
   "execution_count": 6,
   "metadata": {},
   "outputs": [
    {
     "name": "stdout",
     "output_type": "stream",
     "text": [
      "Keys of af_pkl : \n",
      " ['aatype', 'between_segment_residues', 'domain_name', 'residue_index', 'seq_length', 'sequence', 'deletion_matrix_int', 'msa', 'num_alignments', 'msa_uniprot_accession_identifiers', 'msa_species_identifiers', 'template_aatype', 'template_all_atom_positions', 'template_domain_names', 'template_sequence', 'template_sum_probs', 'template_all_atom_mask']\n"
     ]
    }
   ],
   "source": [
    "af_pkl_path = 'T1123.pkl'\n",
    "\n",
    "# pkl 파일 열기\n",
    "with open(af_pkl_path, 'rb') as file:\n",
    "    af_pkl = pickle.load(file)\n",
    "    \n",
    "print(f'Keys of af_pkl : \\n {list(af_pkl.keys())}')"
   ]
  },
  {
   "cell_type": "code",
   "execution_count": 7,
   "metadata": {},
   "outputs": [],
   "source": [
    "def restype_refer_atoms(restype):\n",
    "    atoms = []\n",
    "    if restype   == 'ALA' : atoms = [0,1,2,3,4]\n",
    "    elif restype == 'ARG' : atoms = [0,1,2,3,4,5,11,23,29,30,32]\n",
    "    elif restype == 'ASN' : atoms = [0,1,2,3,4,5,15,16]\n",
    "    elif restype == 'ASP' : atoms = [0,1,2,3,4,5,16,17]\n",
    "    elif restype == 'CYS' : atoms = [0,1,2,3,4,10]\n",
    "    elif restype == 'GLN' : atoms = [0,1,2,3,4,5,11,25,26]\n",
    "    elif restype == 'GLU' : atoms = [0,1,2,3,4,5,11,26,27]\n",
    "    elif restype == 'GLY' : atoms = [0,1,2,3]\n",
    "    elif restype == 'HIS' : atoms = [0,1,2,3,4,5,13,14,20,25]\n",
    "    elif restype == 'ILE' : atoms = [0,1,2,3,4,6,7,12]\n",
    "    elif restype == 'LEU' : atoms = [0,1,2,3,4,5,12,13]\n",
    "    elif restype == 'LYS' : atoms = [0,1,2,3,4,5,11,19,35]\n",
    "    elif restype == 'MET' : atoms = [0,1,2,3,4,5,18,19]\n",
    "    elif restype == 'PHE' : atoms = [0,1,2,3,4,5,12,13,20,21,32]\n",
    "    elif restype == 'PRO' : atoms = [0,1,2,3,4,5,11]\n",
    "    elif restype == 'SER' : atoms = [0,1,2,3,4,8]\n",
    "    elif restype == 'THR' : atoms = [0,1,2,3,4,7,9]\n",
    "    elif restype == 'TRP' : atoms = [0,1,2,3,4,5,12,13,21,22,24,28,33,34]\n",
    "    elif restype == 'TYR' : atoms = [0,1,2,3,4,5,12,13,20,21,31,32]\n",
    "    elif restype == 'VAL' : atoms = [0,1,2,3,4,6,7]\n",
    "    \n",
    "    return atoms"
   ]
  },
  {
   "cell_type": "code",
   "execution_count": 8,
   "metadata": {},
   "outputs": [],
   "source": [
    "atom_types = {\"N\":0,\"CA\":1,\"C\":2,\"CB\":3,\"O\":4,\"CG\":5,\"CG1\":6,\"CG2\":7,\"OG\":8,\"OG1\":9,\"SG\":10,\"CD\":11,\"CD1\":12,\"CD2\":13,\"ND1\":14,\"ND2\":15,\"OD1\":16,\"OD2\":17,\"SD\":18,\\\n",
    "            \"CE\":19,\"CE1\":20,\"CE2\":21,\"CE3\":22,\"NE\":23,\"NE1\":24,\"NE2\":25,\"OE1\":26,\"OE2\":27,\"CH2\":28,\"NH1\":29,\"NH2\":30,\"OH\":31,\"CZ\":32,\"CZ2\":33,\"CZ3\":34,\"NZ\":35,\"OXT\":36}"
   ]
  },
  {
   "cell_type": "code",
   "execution_count": 9,
   "metadata": {},
   "outputs": [],
   "source": [
    "def readPDB(pdb_path):\n",
    "    parser = PDBParser(PERMISSIVE=1)\n",
    "    structure = parser.get_structure('pdb', pdb_path)\n",
    "    residues = {}\n",
    "    for model_id in structure:\n",
    "        for chain_id in model_id:\n",
    "            chain = model_id[chain_id.id]\n",
    "            for residue in chain_id:\n",
    "                res_name = residue.resname.strip()\n",
    "                res_id = residue.id[1]\n",
    "                residues[res_id] = res_name\n",
    "    return residues, chain  \n",
    "\n",
    "def get_coordinates(final_residue, residues,chain):\n",
    "    first_residue = list(residues.keys())[0]\n",
    "    coord = np.zeros([final_residue,37, 3])\n",
    "    coord_mask = np.zeros([final_residue, 37, 1])\n",
    "    unexpected_atoms = {}\n",
    "    \n",
    "    for i in range(1, first_residue):\n",
    "        unexpected_atoms[i] = {}\n",
    "    \n",
    "    def get_coordinates(atom):\n",
    "        vec = atom.get_vector()\n",
    "        return np.array([vec[0], vec[1], vec[2]])\n",
    "    \n",
    "    for residue in chain:\n",
    "        res_num = residue.get_id()[1]-1\n",
    "        if (res_num + 1 ) > final_residue: continue\n",
    "        elif res_num < 0 : continue\n",
    "        res_name = residue.resname\n",
    "        unexpected_atoms[res_num+1] = {}\n",
    "        for atom in residue:\n",
    "            atom_id = atom.get_id()\n",
    "            refer_atoms = restype_refer_atoms(res_name)\n",
    "            if res_name == 'MET' and atom_id == 'SE': atom_id = 'SD'\n",
    "            if atom_id not in atom_types.keys()         : unexpected_atoms[res_num+1][atom_id] = {}\n",
    "            elif atom_types[atom_id] not in refer_atoms : unexpected_atoms[res_num+1][atom_id] = {}\n",
    "            else :\n",
    "                coord[res_num,atom_types[atom_id]] = get_coordinates(atom)\n",
    "                coord_mask[res_num,atom_types[atom_id]] = True\n",
    "    return np.array(coord),np.array(coord_mask),unexpected_atoms"
   ]
  },
  {
   "cell_type": "code",
   "execution_count": 12,
   "metadata": {},
   "outputs": [
    {
     "name": "stdout",
     "output_type": "stream",
     "text": [
      "{0: 'ACE', 1: 'MET', 2: 'GLU', 3: 'ALA', 4: 'ALA', 5: 'HIS', 6: 'SER', 7: 'LYS', 8: 'SER', 9: 'THR', 10: 'GLU', 11: 'GLU', 12: 'CYS', 13: 'LEU', 14: 'ALA', 15: 'TYR', 16: 'PHE', 17: 'GLY', 18: 'VAL', 19: 'SER', 20: 'GLU', 21: 'THR', 22: 'THR', 23: 'GLY', 24: 'LEU', 25: 'THR', 26: 'PRO', 27: 'ASP', 28: 'GLN', 29: 'VAL', 30: 'LYS', 31: 'ARG', 32: 'HIS', 33: 'LEU', 34: 'GLU', 35: 'LYS', 36: 'TYR', 37: 'GLY', 38: 'HIS', 39: 'ASN', 40: 'GLU', 41: 'LEU', 42: 'PRO', 43: 'ALA', 44: 'GLU', 45: 'GLU', 46: 'GLY', 47: 'LYS', 48: 'SER', 49: 'LEU', 50: 'TRP', 51: 'GLU', 52: 'LEU', 53: 'VAL', 54: 'ILE', 55: 'GLU', 56: 'GLN', 57: 'PHE', 58: 'GLU', 59: 'ASP', 60: 'LEU', 61: 'LEU', 62: 'VAL', 63: 'ARG', 64: 'ILE', 65: 'LEU', 66: 'LEU', 67: 'LEU', 68: 'ALA', 69: 'ALA', 70: 'CYS', 71: 'ILE', 72: 'SER', 73: 'PHE', 74: 'VAL', 75: 'LEU', 76: 'ALA', 77: 'TRP', 78: 'PHE', 79: 'GLU', 80: 'GLU', 81: 'GLY', 82: 'GLU', 83: 'GLU', 84: 'THR', 85: 'ILE', 86: 'THR', 87: 'ALA', 88: 'PHE', 89: 'VAL', 90: 'GLU', 91: 'PRO', 92: 'PHE', 93: 'VAL', 94: 'ILE', 95: 'LEU', 96: 'LEU', 97: 'ILE', 98: 'LEU', 99: 'ILE', 100: 'ALA', 101: 'ASN', 102: 'ALA', 103: 'ILE', 104: 'VAL', 105: 'GLY', 106: 'VAL', 107: 'TRP', 108: 'GLN', 109: 'GLU', 110: 'ARG', 111: 'ASN', 112: 'ALA', 113: 'GLU', 114: 'ASN', 115: 'ALA', 116: 'ILE', 117: 'GLU', 118: 'ALA', 119: 'LEU', 120: 'LYS', 121: 'GLU', 122: 'TYR', 123: 'GLU', 124: 'PRO', 125: 'GLU', 126: 'MET', 127: 'GLY', 128: 'LYS', 129: 'VAL', 130: 'TYR', 131: 'ARG', 132: 'ALA', 133: 'ASP', 134: 'ARG', 135: 'LYS', 136: 'SER', 137: 'VAL', 138: 'GLN', 139: 'ARG', 140: 'ILE', 141: 'LYS', 142: 'ALA', 143: 'ARG', 144: 'ASP', 145: 'ILE', 146: 'VAL', 147: 'PRO', 148: 'GLY', 149: 'ASP', 150: 'ILE', 151: 'VAL', 152: 'GLU', 153: 'VAL', 154: 'ALA', 155: 'VAL', 156: 'GLY', 157: 'ASP', 158: 'LYS', 159: 'VAL', 160: 'PRO', 161: 'ALA', 162: 'ASP', 163: 'ILE', 164: 'ARG', 165: 'ILE', 166: 'LEU', 167: 'SER', 168: 'ILE', 169: 'LYS', 170: 'SER', 171: 'THR', 172: 'THR', 173: 'LEU', 174: 'ARG', 175: 'VAL', 176: 'ASP', 177: 'GLN', 178: 'SER', 179: 'ILE', 180: 'LEU', 181: 'THR', 182: 'GLY', 183: 'GLU', 184: 'SER', 185: 'VAL', 186: 'SER', 187: 'VAL', 188: 'ILE', 189: 'LYS', 190: 'HIS', 191: 'THR', 192: 'GLU', 193: 'PRO', 194: 'VAL', 195: 'PRO', 196: 'ASP', 197: 'PRO', 198: 'ARG', 199: 'ALA', 200: 'VAL', 201: 'ASN', 202: 'GLN', 203: 'ASP', 204: 'LYS', 205: 'LYS', 206: 'ASN', 207: 'MET', 208: 'LEU', 209: 'PHE', 210: 'SER', 211: 'GLY', 212: 'THR', 213: 'ASN', 214: 'ILE', 215: 'ALA', 216: 'ALA', 217: 'GLY', 218: 'LYS', 219: 'ALA', 220: 'LEU', 221: 'GLY', 222: 'ILE', 223: 'VAL', 224: 'ALA', 225: 'THR', 226: 'THR', 227: 'GLY', 228: 'VAL', 229: 'SER', 230: 'THR', 231: 'GLU', 232: 'ILE', 233: 'GLY', 234: 'LYS', 235: 'ILE', 236: 'ARG', 237: 'ASP', 238: 'GLN', 239: 'MET', 240: 'ALA', 241: 'ALA', 242: 'THR', 243: 'GLU', 244: 'GLN', 245: 'ASP', 246: 'LYS', 247: 'THR', 248: 'PRO', 249: 'LEU', 250: 'GLN', 251: 'GLN', 252: 'LYS', 253: 'LEU', 254: 'ASP', 255: 'GLU', 256: 'PHE', 257: 'GLY', 258: 'GLU', 259: 'GLN', 260: 'LEU', 261: 'SER', 262: 'LYS', 263: 'VAL', 264: 'ILE', 265: 'SER', 266: 'LEU', 267: 'ILE', 268: 'CYS', 269: 'VAL', 270: 'ALA', 271: 'VAL', 272: 'TRP', 273: 'LEU', 274: 'ILE', 275: 'ASN', 276: 'ILE', 277: 'GLY', 278: 'HIS', 279: 'PHE', 280: 'ASN', 281: 'ASP', 282: 'PRO', 283: 'VAL', 284: 'HIS', 285: 'GLY', 286: 'GLY', 287: 'SER', 288: 'TRP', 289: 'ILE', 290: 'ARG', 291: 'GLY', 292: 'ALA', 293: 'ILE', 294: 'TYR', 295: 'TYR', 296: 'PHE', 297: 'LYS', 298: 'ILE', 299: 'ALA', 300: 'VAL', 301: 'ALA', 302: 'LEU', 303: 'ALA', 304: 'VAL', 305: 'ALA', 306: 'ALA', 307: 'ILE', 308: 'PRO', 309: 'GLU', 310: 'GLY', 311: 'LEU', 312: 'PRO', 313: 'ALA', 314: 'VAL', 315: 'ILE', 316: 'THR', 317: 'THR', 318: 'CYS', 319: 'LEU', 320: 'ALA', 321: 'LEU', 322: 'GLY', 323: 'THR', 324: 'ARG', 325: 'ARG', 326: 'MET', 327: 'ALA', 328: 'LYS', 329: 'LYS', 330: 'ASN', 331: 'ALA', 332: 'ILE', 333: 'VAL', 334: 'ARG', 335: 'SER', 336: 'LEU', 337: 'PRO', 338: 'SER', 339: 'VAL', 340: 'GLU', 341: 'THR', 342: 'LEU', 343: 'GLY', 344: 'CYS', 345: 'THR', 346: 'SER', 347: 'VAL', 348: 'ILE', 349: 'CYS', 350: 'SER', 351: 'ASP', 352: 'LYS', 353: 'THR', 354: 'GLY', 355: 'THR', 356: 'LEU', 357: 'THR', 358: 'THR', 359: 'ASN', 360: 'GLN', 361: 'MET', 362: 'SER', 363: 'VAL', 364: 'CYS', 365: 'LYS', 366: 'MET', 367: 'PHE', 368: 'ILE', 369: 'ILE', 370: 'ASP', 371: 'LYS', 372: 'VAL', 373: 'ASP', 374: 'GLY', 375: 'ASP', 376: 'PHE', 377: 'CYS', 378: 'SER', 379: 'LEU', 380: 'ASN', 381: 'GLU', 382: 'PHE', 383: 'SER', 384: 'ILE', 385: 'THR', 386: 'GLY', 387: 'SER', 388: 'THR', 389: 'TYR', 390: 'ALA', 391: 'PRO', 392: 'GLU', 393: 'GLY', 394: 'GLU', 395: 'VAL', 396: 'LEU', 397: 'LYS', 398: 'ASN', 399: 'ASP', 400: 'LYS', 401: 'PRO', 402: 'ILE', 403: 'ARG', 404: 'SER', 405: 'GLY', 406: 'GLN', 407: 'PHE', 408: 'ASP', 409: 'GLY', 410: 'LEU', 411: 'VAL', 412: 'GLU', 413: 'LEU', 414: 'ALA', 415: 'THR', 416: 'ILE', 417: 'CYS', 418: 'ALA', 419: 'LEU', 420: 'CYS', 421: 'ASN', 422: 'ASP', 423: 'SER', 424: 'SER', 425: 'LEU', 426: 'ASP', 427: 'PHE', 428: 'ASN', 429: 'GLU', 430: 'THR', 431: 'LYS', 432: 'GLY', 433: 'VAL', 434: 'TYR', 435: 'GLU', 436: 'LYS', 437: 'VAL', 438: 'GLY', 439: 'GLU', 440: 'ALA', 441: 'THR', 442: 'GLU', 443: 'THR', 444: 'ALA', 445: 'LEU', 446: 'THR', 447: 'THR', 448: 'LEU', 449: 'VAL', 450: 'GLU', 451: 'LYS', 452: 'MET', 453: 'ASN', 454: 'VAL', 455: 'PHE', 456: 'ASN', 457: 'THR', 458: 'GLU', 459: 'VAL', 460: 'ARG', 461: 'ASN', 462: 'LEU', 463: 'SER', 464: 'LYS', 465: 'VAL', 466: 'GLU', 467: 'ARG', 468: 'ALA', 469: 'ASN', 470: 'ALA', 471: 'CYS', 472: 'ASN', 473: 'SER', 474: 'VAL', 475: 'ILE', 476: 'ARG', 477: 'GLN', 478: 'LEU', 479: 'MET', 480: 'LYS', 481: 'LYS', 482: 'GLU', 483: 'PHE', 484: 'THR', 485: 'LEU', 486: 'GLU', 487: 'PHE', 488: 'SER', 489: 'ARG', 490: 'ASP', 491: 'ARG', 492: 'LYS', 493: 'SER', 494: 'MET', 495: 'SER', 496: 'VAL', 497: 'TYR', 498: 'CYS', 499: 'SER', 500: 'PRO', 501: 'ALA', 502: 'LYS', 503: 'SER', 504: 'SER', 505: 'ARG', 506: 'ALA', 507: 'ALA', 508: 'VAL', 509: 'GLY', 510: 'ASN', 511: 'LYS', 512: 'MET', 513: 'PHE', 514: 'VAL', 515: 'LYS', 516: 'GLY', 517: 'ALA', 518: 'PRO', 519: 'GLU', 520: 'GLY', 521: 'VAL', 522: 'ILE', 523: 'ASP', 524: 'ARG', 525: 'CYS', 526: 'ASN', 527: 'TYR', 528: 'VAL', 529: 'ARG', 530: 'VAL', 531: 'GLY', 532: 'THR', 533: 'THR', 534: 'ARG', 535: 'VAL', 536: 'PRO', 537: 'MET', 538: 'THR', 539: 'GLY', 540: 'PRO', 541: 'VAL', 542: 'LYS', 543: 'GLU', 544: 'LYS', 545: 'ILE', 546: 'LEU', 547: 'SER', 548: 'VAL', 549: 'ILE', 550: 'LYS', 551: 'GLU', 552: 'TRP', 553: 'GLY', 554: 'THR', 555: 'GLY', 556: 'ARG', 557: 'ASP', 558: 'THR', 559: 'LEU', 560: 'ARG', 561: 'CYS', 562: 'LEU', 563: 'ALA', 564: 'LEU', 565: 'ALA', 566: 'THR', 567: 'ARG', 568: 'ASP', 569: 'THR', 570: 'PRO', 571: 'PRO', 572: 'LYS', 573: 'ARG', 574: 'GLU', 575: 'GLU', 576: 'MET', 577: 'VAL', 578: 'LEU', 579: 'ASP', 580: 'ASP', 581: 'SER', 582: 'SER', 583: 'ARG', 584: 'PHE', 585: 'MET', 586: 'GLU', 587: 'TYR', 588: 'GLU', 589: 'THR', 590: 'ASP', 591: 'LEU', 592: 'THR', 593: 'PHE', 594: 'VAL', 595: 'GLY', 596: 'VAL', 597: 'VAL', 598: 'GLY', 599: 'MET', 600: 'LEU', 601: 'ASP', 602: 'PRO', 603: 'PRO', 604: 'ARG', 605: 'LYS', 606: 'GLU', 607: 'VAL', 608: 'MET', 609: 'GLY', 610: 'SER', 611: 'ILE', 612: 'GLN', 613: 'LEU', 614: 'CYS', 615: 'ARG', 616: 'ASP', 617: 'ALA', 618: 'GLY', 619: 'ILE', 620: 'ARG', 621: 'VAL', 622: 'ILE', 623: 'MET', 624: 'ILE', 625: 'THR', 626: 'GLY', 627: 'ASP', 628: 'ASN', 629: 'LYS', 630: 'GLY', 631: 'THR', 632: 'ALA', 633: 'ILE', 634: 'ALA', 635: 'ILE', 636: 'CYS', 637: 'ARG', 638: 'ARG', 639: 'ILE', 640: 'GLY', 641: 'ILE', 642: 'PHE', 643: 'GLY', 644: 'GLU', 645: 'ASN', 646: 'GLU', 647: 'GLU', 648: 'VAL', 649: 'ALA', 650: 'ASP', 651: 'ARG', 652: 'ALA', 653: 'TYR', 654: 'THR', 655: 'GLY', 656: 'ARG', 657: 'GLU', 658: 'PHE', 659: 'ASP', 660: 'ASP', 661: 'LEU', 662: 'PRO', 663: 'LEU', 664: 'ALA', 665: 'GLU', 666: 'GLN', 667: 'ARG', 668: 'GLU', 669: 'ALA', 670: 'CYS', 671: 'ARG', 672: 'ARG', 673: 'ALA', 674: 'CYS', 675: 'CYS', 676: 'PHE', 677: 'ALA', 678: 'ARG', 679: 'VAL', 680: 'GLU', 681: 'PRO', 682: 'SER', 683: 'HIS', 684: 'LYS', 685: 'SER', 686: 'LYS', 687: 'ILE', 688: 'VAL', 689: 'GLU', 690: 'TYR', 691: 'LEU', 692: 'GLN', 693: 'SER', 694: 'TYR', 695: 'ASP', 696: 'GLU', 697: 'ILE', 698: 'THR', 699: 'ALA', 700: 'MET', 701: 'THR', 702: 'GLY', 703: 'ASP', 704: 'GLY', 705: 'VAL', 706: 'ASN', 707: 'ASP', 708: 'ALA', 709: 'PRO', 710: 'ALA', 711: 'LEU', 712: 'LYS', 713: 'LYS', 714: 'ALA', 715: 'GLU', 716: 'ILE', 717: 'GLY', 718: 'ILE', 719: 'ALA', 720: 'MET', 721: 'GLY', 722: 'SER', 723: 'GLY', 724: 'THR', 725: 'ALA', 726: 'VAL', 727: 'ALA', 728: 'LYS', 729: 'THR', 730: 'ALA', 731: 'SER', 732: 'GLU', 733: 'MET', 734: 'VAL', 735: 'LEU', 736: 'ALA', 737: 'ASP', 738: 'ASP', 739: 'ASN', 740: 'PHE', 741: 'SER', 742: 'THR', 743: 'ILE', 744: 'VAL', 745: 'ALA', 746: 'ALA', 747: 'VAL', 748: 'GLU', 749: 'GLU', 750: 'GLY', 751: 'ARG', 752: 'ALA', 753: 'ILE', 754: 'TYR', 755: 'ASN', 756: 'ASN', 757: 'MET', 758: 'LYS', 759: 'GLN', 760: 'PHE', 761: 'ILE', 762: 'ARG', 763: 'TYR', 764: 'LEU', 765: 'ILE', 766: 'SER', 767: 'SER', 768: 'ASN', 769: 'VAL', 770: 'GLY', 771: 'GLU', 772: 'VAL', 773: 'VAL', 774: 'CYS', 775: 'ILE', 776: 'PHE', 777: 'LEU', 778: 'THR', 779: 'ALA', 780: 'ALA', 781: 'LEU', 782: 'GLY', 783: 'LEU', 784: 'PRO', 785: 'GLU', 786: 'ALA', 787: 'LEU', 788: 'ILE', 789: 'PRO', 790: 'VAL', 791: 'GLN', 792: 'LEU', 793: 'LEU', 794: 'TRP', 795: 'VAL', 796: 'ASN', 797: 'LEU', 798: 'VAL', 799: 'THR', 800: 'ASP', 801: 'GLY', 802: 'LEU', 803: 'PRO', 804: 'ALA', 805: 'THR', 806: 'ALA', 807: 'LEU', 808: 'GLY', 809: 'PHE', 810: 'ASN', 811: 'PRO', 812: 'PRO', 813: 'ASP', 814: 'LEU', 815: 'ASP', 816: 'ILE', 817: 'MET', 818: 'ASP', 819: 'ARG', 820: 'PRO', 821: 'PRO', 822: 'ARG', 823: 'SER', 824: 'PRO', 825: 'LYS', 826: 'GLU', 827: 'PRO', 828: 'LEU', 829: 'ILE', 830: 'SER', 831: 'GLY', 832: 'TRP', 833: 'LEU', 834: 'PHE', 835: 'PHE', 836: 'ARG', 837: 'TYR', 838: 'MET', 839: 'ALA', 840: 'ILE', 841: 'GLY', 842: 'GLY', 843: 'TYR', 844: 'VAL', 845: 'GLY', 846: 'ALA', 847: 'ALA', 848: 'THR', 849: 'VAL', 850: 'GLY', 851: 'ALA', 852: 'ALA', 853: 'ALA', 854: 'TRP', 855: 'TRP', 856: 'PHE', 857: 'MET', 858: 'TYR', 859: 'ALA', 860: 'GLU', 861: 'ASP', 862: 'GLY', 863: 'PRO', 864: 'GLY', 865: 'VAL', 866: 'THR', 867: 'TYR', 868: 'HIS', 869: 'GLN', 870: 'LEU', 871: 'THR', 872: 'HIS', 873: 'PHE', 874: 'MET', 875: 'GLN', 876: 'CYS', 877: 'THR', 878: 'GLU', 879: 'ASP', 880: 'HIS', 881: 'PRO', 882: 'HIS', 883: 'PHE', 884: 'GLU', 885: 'GLY', 886: 'LEU', 887: 'ASP', 888: 'CYS', 889: 'GLU', 890: 'ILE', 891: 'PHE', 892: 'GLU', 893: 'ALA', 894: 'PRO', 895: 'GLU', 896: 'PRO', 897: 'MET', 898: 'THR', 899: 'MET', 900: 'ALA', 901: 'LEU', 902: 'SER', 903: 'VAL', 904: 'LEU', 905: 'VAL', 906: 'THR', 907: 'ILE', 908: 'GLU', 909: 'MET', 910: 'CYS', 911: 'ASN', 912: 'ALA', 913: 'LEU', 914: 'ASN', 915: 'SER', 916: 'LEU', 917: 'SER', 918: 'GLU', 919: 'ASN', 920: 'GLN', 921: 'SER', 922: 'LEU', 923: 'MET', 924: 'ARG', 925: 'MET', 926: 'PRO', 927: 'PRO', 928: 'TRP', 929: 'VAL', 930: 'ASN', 931: 'ILE', 932: 'TRP', 933: 'LEU', 934: 'LEU', 935: 'GLY', 936: 'SER', 937: 'ILE', 938: 'CYS', 939: 'LEU', 940: 'SER', 941: 'MET', 942: 'SER', 943: 'LEU', 944: 'HIS', 945: 'PHE', 946: 'LEU', 947: 'ILE', 948: 'LEU', 949: 'TYR', 950: 'VAL', 951: 'ASP', 952: 'PRO', 953: 'LEU', 954: 'PRO', 955: 'MET', 956: 'ILE', 957: 'PHE', 958: 'LYS', 959: 'LEU', 960: 'LYS', 961: 'ALA', 962: 'LEU', 963: 'ASP', 964: 'LEU', 965: 'THR', 966: 'GLN', 967: 'TRP', 968: 'LEU', 969: 'MET', 970: 'VAL', 971: 'LEU', 972: 'LYS', 973: 'ILE', 974: 'SER', 975: 'LEU', 976: 'PRO', 977: 'VAL', 978: 'ILE', 979: 'GLY', 980: 'LEU', 981: 'ASP', 982: 'GLU', 983: 'ILE', 984: 'LEU', 985: 'LYS', 986: 'PHE', 987: 'ILE', 988: 'ALA', 989: 'ARG', 990: 'ASN', 991: 'TYR', 992: 'LEU', 993: 'GLU', 994: 'GLY', 997: 'MG', 998: 'BEF', 1003: 'TG1', 2001: 'HOH', 2002: 'HOH', 2003: 'HOH', 2004: 'HOH', 2005: 'HOH', 2006: 'HOH', 2007: 'HOH', 2008: 'HOH', 2009: 'HOH', 2010: 'HOH', 2011: 'HOH', 2012: 'HOH', 2013: 'HOH', 2014: 'HOH', 2015: 'HOH', 2016: 'HOH', 2017: 'HOH', 2018: 'HOH', 2019: 'HOH', 2020: 'HOH', 2021: 'HOH', 2022: 'HOH', 2023: 'HOH', 2024: 'HOH', 2025: 'HOH', 2026: 'HOH', 2028: 'HOH', 2029: 'HOH', 2030: 'HOH', 2031: 'HOH', 2032: 'HOH', 2033: 'HOH', 2034: 'HOH', 2035: 'HOH', 2036: 'HOH', 2037: 'HOH', 2038: 'HOH', 2039: 'HOH', 2040: 'HOH', 2041: 'HOH', 2042: 'HOH', 2043: 'HOH', 2044: 'HOH', 2045: 'HOH', 2046: 'HOH', 2047: 'HOH', 2048: 'HOH', 2049: 'HOH', 2050: 'HOH', 2051: 'HOH', 2052: 'HOH', 2053: 'HOH', 2054: 'HOH', 2055: 'HOH', 2056: 'HOH', 2057: 'HOH', 2058: 'HOH', 2059: 'HOH', 2060: 'HOH', 2061: 'HOH', 2062: 'HOH', 2063: 'HOH', 2064: 'HOH', 2065: 'HOH', 2066: 'HOH', 2067: 'HOH', 2068: 'HOH', 2069: 'HOH', 2070: 'HOH', 2071: 'HOH', 2072: 'HOH', 2073: 'HOH', 2074: 'HOH', 2075: 'HOH', 2076: 'HOH', 2077: 'HOH', 2078: 'HOH', 2079: 'HOH', 2080: 'HOH', 2081: 'HOH', 2082: 'HOH', 2083: 'HOH', 2084: 'HOH', 2085: 'HOH', 2086: 'HOH', 2087: 'HOH', 2088: 'HOH', 2089: 'HOH', 2090: 'HOH', 2091: 'HOH', 2092: 'HOH', 2093: 'HOH', 2094: 'HOH', 2095: 'HOH', 2096: 'HOH', 2097: 'HOH', 2098: 'HOH', 2099: 'HOH', 2100: 'HOH', 2101: 'HOH', 2102: 'HOH', 2103: 'HOH', 2104: 'HOH', 2105: 'HOH', 2106: 'HOH', 2107: 'HOH', 2108: 'HOH', 2109: 'HOH', 2110: 'HOH', 2111: 'HOH', 2112: 'HOH', 2113: 'HOH', 2114: 'HOH', 2115: 'HOH', 2116: 'HOH', 2117: 'HOH', 2118: 'HOH', 2119: 'HOH', 2120: 'HOH', 2121: 'HOH', 2122: 'HOH', 2123: 'HOH', 2124: 'HOH', 2125: 'HOH', 2126: 'HOH', 2127: 'HOH', 2128: 'HOH', 2129: 'HOH', 2130: 'HOH', 2131: 'HOH', 2132: 'HOH', 2133: 'HOH', 2134: 'HOH', 2135: 'HOH', 2136: 'HOH', 2137: 'HOH', 2138: 'HOH', 2139: 'HOH', 2140: 'HOH', 2141: 'HOH', 2142: 'HOH', 2143: 'HOH', 2144: 'HOH', 2145: 'HOH', 2146: 'HOH', 2147: 'HOH', 2148: 'HOH', 2149: 'HOH', 2150: 'HOH', 2151: 'HOH', 2152: 'HOH', 2153: 'HOH', 2154: 'HOH', 2155: 'HOH', 2156: 'HOH', 2157: 'HOH', 2158: 'HOH', 2159: 'HOH', 2160: 'HOH', 2161: 'HOH', 2162: 'HOH', 2163: 'HOH', 2164: 'HOH', 2165: 'HOH', 2166: 'HOH', 2167: 'HOH', 2168: 'HOH', 2169: 'HOH', 2170: 'HOH', 2171: 'HOH', 2172: 'HOH', 2173: 'HOH', 2174: 'HOH', 2175: 'HOH', 2176: 'HOH', 2177: 'HOH', 2178: 'HOH', 2179: 'HOH', 2180: 'HOH', 2181: 'HOH', 2182: 'HOH', 2183: 'HOH', 2184: 'HOH', 2185: 'HOH', 2186: 'HOH', 2187: 'HOH', 2188: 'HOH', 2189: 'HOH', 2190: 'HOH', 2191: 'HOH', 2192: 'HOH', 2193: 'HOH', 2194: 'HOH', 2195: 'HOH', 2196: 'HOH', 2197: 'HOH', 2198: 'HOH', 2199: 'HOH', 2200: 'HOH', 2201: 'HOH', 2202: 'HOH', 2203: 'HOH', 2204: 'HOH', 2205: 'HOH', 2206: 'HOH', 2207: 'HOH', 2208: 'HOH', 2209: 'HOH', 2210: 'HOH', 2211: 'HOH', 2212: 'HOH', 2213: 'HOH', 2214: 'HOH', 2215: 'HOH', 2216: 'HOH', 2217: 'HOH', 2218: 'HOH', 2219: 'HOH', 2220: 'HOH', 2221: 'HOH', 2222: 'HOH', 2223: 'HOH', 2224: 'HOH', 2225: 'HOH', 2226: 'HOH', 2227: 'HOH', 2228: 'HOH', 2229: 'HOH', 2230: 'HOH', 2231: 'HOH', 2232: 'HOH', 2233: 'HOH', 2234: 'HOH', 2235: 'HOH', 2236: 'HOH', 2237: 'HOH', 2238: 'HOH', 2239: 'HOH', 2240: 'HOH', 2241: 'HOH', 2242: 'HOH', 2243: 'HOH', 2244: 'HOH', 2245: 'HOH', 2246: 'HOH', 2247: 'HOH', 2248: 'HOH', 2249: 'HOH', 2250: 'HOH', 2251: 'HOH', 2252: 'HOH', 2253: 'HOH', 2254: 'HOH', 2255: 'HOH', 2256: 'HOH', 2257: 'HOH', 2258: 'HOH', 2259: 'HOH', 2260: 'HOH', 2261: 'HOH', 2262: 'HOH', 2263: 'HOH', 2264: 'HOH', 2265: 'HOH', 2266: 'HOH', 2267: 'HOH', 2268: 'HOH', 2269: 'HOH', 2270: 'HOH', 2271: 'HOH', 2272: 'HOH', 2273: 'HOH', 2274: 'HOH', 2275: 'HOH', 2276: 'HOH', 2277: 'HOH', 2278: 'HOH', 2279: 'HOH', 2280: 'HOH', 2281: 'HOH', 2282: 'HOH', 2283: 'HOH', 2284: 'HOH', 2285: 'HOH', 2286: 'HOH', 2287: 'HOH', 2288: 'HOH', 2289: 'HOH', 2290: 'HOH', 2291: 'HOH', 2292: 'HOH', 2293: 'HOH', 2294: 'HOH', 2295: 'HOH', 2296: 'HOH', 2297: 'HOH', 2298: 'HOH', 2299: 'HOH', 2300: 'HOH', 2301: 'HOH', 2302: 'HOH', 2303: 'HOH', 2304: 'HOH', 2305: 'HOH', 2306: 'HOH', 2307: 'HOH', 2308: 'HOH', 2309: 'HOH', 2310: 'HOH', 2311: 'HOH', 2312: 'HOH'} <Chain id=A>\n"
     ]
    }
   ],
   "source": [
    "pdb_path = '2zbf.pdb'\n",
    "residues, chain = readPDB(pdb_path)\n",
    "\n",
    "print(residues, chain)"
   ]
  },
  {
   "cell_type": "code",
   "execution_count": 15,
   "metadata": {},
   "outputs": [
    {
     "name": "stdout",
     "output_type": "stream",
     "text": [
      "[[[64.75800323 54.92699814 44.1590004 ]\n",
      "  [64.06900024 54.85200119 45.43399811]\n",
      "  [63.40499878 56.16899872 45.80500031]\n",
      "  ...\n",
      "  [ 0.          0.          0.        ]\n",
      "  [ 0.          0.          0.        ]\n",
      "  [ 0.          0.          0.        ]]\n",
      "\n",
      " [[62.26100159 56.4640007  45.19400024]\n",
      "  [61.55500031 57.68700027 45.54700089]\n",
      "  [61.0870018  57.4620018  46.97800064]\n",
      "  ...\n",
      "  [ 0.          0.          0.        ]\n",
      "  [ 0.          0.          0.        ]\n",
      "  [ 0.          0.          0.        ]]\n",
      "\n",
      " [[60.83000183 58.54100037 47.70199966]\n",
      "  [60.40499878 58.43999863 49.09500122]\n",
      "  [61.60300064 58.16899872 50.        ]\n",
      "  ...\n",
      "  [ 0.          0.          0.        ]\n",
      "  [ 0.          0.          0.        ]\n",
      "  [ 0.          0.          0.        ]]\n",
      "\n",
      " ...\n",
      "\n",
      " [[ 0.          0.          0.        ]\n",
      "  [ 0.          0.          0.        ]\n",
      "  [ 0.          0.          0.        ]\n",
      "  ...\n",
      "  [ 0.          0.          0.        ]\n",
      "  [ 0.          0.          0.        ]\n",
      "  [ 0.          0.          0.        ]]\n",
      "\n",
      " [[ 0.          0.          0.        ]\n",
      "  [ 0.          0.          0.        ]\n",
      "  [ 0.          0.          0.        ]\n",
      "  ...\n",
      "  [ 0.          0.          0.        ]\n",
      "  [ 0.          0.          0.        ]\n",
      "  [ 0.          0.          0.        ]]\n",
      "\n",
      " [[ 0.          0.          0.        ]\n",
      "  [ 0.          0.          0.        ]\n",
      "  [ 0.          0.          0.        ]\n",
      "  ...\n",
      "  [ 0.          0.          0.        ]\n",
      "  [ 0.          0.          0.        ]\n",
      "  [ 0.          0.          0.        ]]] [[[1.]\n",
      "  [1.]\n",
      "  [1.]\n",
      "  ...\n",
      "  [0.]\n",
      "  [0.]\n",
      "  [0.]]\n",
      "\n",
      " [[1.]\n",
      "  [1.]\n",
      "  [1.]\n",
      "  ...\n",
      "  [0.]\n",
      "  [0.]\n",
      "  [0.]]\n",
      "\n",
      " [[1.]\n",
      "  [1.]\n",
      "  [1.]\n",
      "  ...\n",
      "  [0.]\n",
      "  [0.]\n",
      "  [0.]]\n",
      "\n",
      " ...\n",
      "\n",
      " [[0.]\n",
      "  [0.]\n",
      "  [0.]\n",
      "  ...\n",
      "  [0.]\n",
      "  [0.]\n",
      "  [0.]]\n",
      "\n",
      " [[0.]\n",
      "  [0.]\n",
      "  [0.]\n",
      "  ...\n",
      "  [0.]\n",
      "  [0.]\n",
      "  [0.]]\n",
      "\n",
      " [[0.]\n",
      "  [0.]\n",
      "  [0.]\n",
      "  ...\n",
      "  [0.]\n",
      "  [0.]\n",
      "  [0.]]]\n",
      "(2312, 37, 3) (2312, 37, 1)\n"
     ]
    }
   ],
   "source": [
    "coord, coord_mask, _ = get_coordinates(2312,residues,chain)\n",
    "print(coord, coord_mask)\n",
    "print(coord.shape, coord_mask.shape)"
   ]
  },
  {
   "cell_type": "code",
   "execution_count": null,
   "metadata": {},
   "outputs": [],
   "source": []
  }
 ],
 "metadata": {
  "kernelspec": {
   "display_name": "Python 3",
   "language": "python",
   "name": "python3"
  },
  "language_info": {
   "codemirror_mode": {
    "name": "ipython",
    "version": 3
   },
   "file_extension": ".py",
   "mimetype": "text/x-python",
   "name": "python",
   "nbconvert_exporter": "python",
   "pygments_lexer": "ipython3",
   "version": "3.8.10"
  }
 },
 "nbformat": 4,
 "nbformat_minor": 2
}
